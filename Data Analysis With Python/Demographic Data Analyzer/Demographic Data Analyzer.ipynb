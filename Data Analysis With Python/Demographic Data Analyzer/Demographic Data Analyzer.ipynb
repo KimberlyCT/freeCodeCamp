{
 "cells": [
  {
   "cell_type": "code",
   "execution_count": null,
   "id": "4a55175a-1597-4482-8238-15e84346c061",
   "metadata": {},
   "outputs": [],
   "source": []
  },
  {
   "cell_type": "markdown",
   "id": "304a314b-9c09-422f-8c2d-b921082df191",
   "metadata": {},
   "source": [
    "import pandas as pd\n",
    "\n",
    "\n",
    "def calculate_demographic_data(print_data=True):\n",
    "    # Read data from file\n",
    "    df = pd.read_csv('adult.data.csv')\n",
    "\n",
    "    # How many of each race are represented in this dataset? This should be a Pandas series with race names as the index labels.\n",
    "    race_count = df.groupby(df.race)\n",
    "\n",
    "    # What is the average age of men?\n",
    "    average_age_men = None\n",
    "\n",
    "    # What is the percentage of people who have a Bachelor's degree?\n",
    "    percentage_bachelors = None\n",
    "\n",
    "    # What percentage of people with advanced education (`Bachelors`, `Masters`, or `Doctorate`) make more than 50K?\n",
    "    # What percentage of people without advanced education make more than 50K?\n",
    "\n",
    "    # with and without `Bachelors`, `Masters`, or `Doctorate`\n",
    "    higher_education = None\n",
    "    lower_education = None\n",
    "\n",
    "    # percentage with salary >50K\n",
    "    higher_education_rich = None\n",
    "    lower_education_rich = None\n",
    "\n",
    "    # What is the minimum number of hours a person works per week (hours-per-week feature)?\n",
    "    min_work_hours = None\n",
    "\n",
    "    # What percentage of the people who work the minimum number of hours per week have a salary of >50K?\n",
    "    num_min_workers = None\n",
    "\n",
    "    rich_percentage = None\n",
    "\n",
    "    # What country has the highest percentage of people that earn >50K?\n",
    "    highest_earning_country = None\n",
    "    highest_earning_country_percentage = None\n",
    "\n",
    "    # Identify the most popular occupation for those who earn >50K in India.\n",
    "    top_IN_occupation = None\n"
   ]
  },
  {
   "cell_type": "code",
   "execution_count": 1,
   "id": "ba1256a2-8405-4ee5-8d3e-e9a352fa9298",
   "metadata": {},
   "outputs": [
    {
     "name": "stdout",
     "output_type": "stream",
     "text": [
      "<class 'pandas.core.frame.DataFrame'>\n",
      "RangeIndex: 32561 entries, 0 to 32560\n",
      "Data columns (total 15 columns):\n",
      " #   Column          Non-Null Count  Dtype \n",
      "---  ------          --------------  ----- \n",
      " 0   age             32561 non-null  int64 \n",
      " 1   workclass       32561 non-null  object\n",
      " 2   fnlwgt          32561 non-null  int64 \n",
      " 3   education       32561 non-null  object\n",
      " 4   education-num   32561 non-null  int64 \n",
      " 5   marital-status  32561 non-null  object\n",
      " 6   occupation      32561 non-null  object\n",
      " 7   relationship    32561 non-null  object\n",
      " 8   race            32561 non-null  object\n",
      " 9   sex             32561 non-null  object\n",
      " 10  capital-gain    32561 non-null  int64 \n",
      " 11  capital-loss    32561 non-null  int64 \n",
      " 12  hours-per-week  32561 non-null  int64 \n",
      " 13  native-country  32561 non-null  object\n",
      " 14  salary          32561 non-null  object\n",
      "dtypes: int64(6), object(9)\n",
      "memory usage: 3.7+ MB\n"
     ]
    }
   ],
   "source": [
    "import pandas as pd\n",
    "df = pd.read_csv('adult.data.csv')\n",
    "df.info()"
   ]
  },
  {
   "cell_type": "markdown",
   "id": "df4afc46-23c7-408f-92f9-3a3f8f69e9f5",
   "metadata": {},
   "source": [
    "<h3>Race Representation</h3>"
   ]
  },
  {
   "cell_type": "code",
   "execution_count": 244,
   "id": "cf141736-fd64-4608-a28a-fec4947fbd9d",
   "metadata": {},
   "outputs": [
    {
     "name": "stdout",
     "output_type": "stream",
     "text": [
      "race\n",
      "White                 27816\n",
      "Black                  3124\n",
      "Asian-Pac-Islander     1039\n",
      "Amer-Indian-Eskimo      311\n",
      "Other                   271\n",
      "Name: count, dtype: int64\n"
     ]
    }
   ],
   "source": [
    "# How many of each race are represented in this dataset? This should be a Pandas series with race names as the index labels.\n",
    "race_count = df.race.value_counts()\n",
    "print(race_count)"
   ]
  },
  {
   "cell_type": "code",
   "execution_count": 19,
   "id": "1d906349-cadc-4e85-879f-4733fd773b16",
   "metadata": {},
   "outputs": [
    {
     "data": {
      "text/html": [
       "<div>\n",
       "<style scoped>\n",
       "    .dataframe tbody tr th:only-of-type {\n",
       "        vertical-align: middle;\n",
       "    }\n",
       "\n",
       "    .dataframe tbody tr th {\n",
       "        vertical-align: top;\n",
       "    }\n",
       "\n",
       "    .dataframe thead th {\n",
       "        text-align: right;\n",
       "    }\n",
       "</style>\n",
       "<table border=\"1\" class=\"dataframe\">\n",
       "  <thead>\n",
       "    <tr style=\"text-align: right;\">\n",
       "      <th></th>\n",
       "      <th>age</th>\n",
       "      <th>workclass</th>\n",
       "      <th>fnlwgt</th>\n",
       "      <th>education</th>\n",
       "      <th>education-num</th>\n",
       "      <th>marital-status</th>\n",
       "      <th>occupation</th>\n",
       "      <th>relationship</th>\n",
       "      <th>race</th>\n",
       "      <th>sex</th>\n",
       "      <th>capital-gain</th>\n",
       "      <th>capital-loss</th>\n",
       "      <th>hours-per-week</th>\n",
       "      <th>native-country</th>\n",
       "      <th>salary</th>\n",
       "    </tr>\n",
       "  </thead>\n",
       "  <tbody>\n",
       "    <tr>\n",
       "      <th>0</th>\n",
       "      <td>39</td>\n",
       "      <td>State-gov</td>\n",
       "      <td>77516</td>\n",
       "      <td>Bachelors</td>\n",
       "      <td>13</td>\n",
       "      <td>Never-married</td>\n",
       "      <td>Adm-clerical</td>\n",
       "      <td>Not-in-family</td>\n",
       "      <td>White</td>\n",
       "      <td>Male</td>\n",
       "      <td>2174</td>\n",
       "      <td>0</td>\n",
       "      <td>40</td>\n",
       "      <td>United-States</td>\n",
       "      <td>&lt;=50K</td>\n",
       "    </tr>\n",
       "    <tr>\n",
       "      <th>1</th>\n",
       "      <td>50</td>\n",
       "      <td>Self-emp-not-inc</td>\n",
       "      <td>83311</td>\n",
       "      <td>Bachelors</td>\n",
       "      <td>13</td>\n",
       "      <td>Married-civ-spouse</td>\n",
       "      <td>Exec-managerial</td>\n",
       "      <td>Husband</td>\n",
       "      <td>White</td>\n",
       "      <td>Male</td>\n",
       "      <td>0</td>\n",
       "      <td>0</td>\n",
       "      <td>13</td>\n",
       "      <td>United-States</td>\n",
       "      <td>&lt;=50K</td>\n",
       "    </tr>\n",
       "    <tr>\n",
       "      <th>2</th>\n",
       "      <td>38</td>\n",
       "      <td>Private</td>\n",
       "      <td>215646</td>\n",
       "      <td>HS-grad</td>\n",
       "      <td>9</td>\n",
       "      <td>Divorced</td>\n",
       "      <td>Handlers-cleaners</td>\n",
       "      <td>Not-in-family</td>\n",
       "      <td>White</td>\n",
       "      <td>Male</td>\n",
       "      <td>0</td>\n",
       "      <td>0</td>\n",
       "      <td>40</td>\n",
       "      <td>United-States</td>\n",
       "      <td>&lt;=50K</td>\n",
       "    </tr>\n",
       "    <tr>\n",
       "      <th>3</th>\n",
       "      <td>53</td>\n",
       "      <td>Private</td>\n",
       "      <td>234721</td>\n",
       "      <td>11th</td>\n",
       "      <td>7</td>\n",
       "      <td>Married-civ-spouse</td>\n",
       "      <td>Handlers-cleaners</td>\n",
       "      <td>Husband</td>\n",
       "      <td>Black</td>\n",
       "      <td>Male</td>\n",
       "      <td>0</td>\n",
       "      <td>0</td>\n",
       "      <td>40</td>\n",
       "      <td>United-States</td>\n",
       "      <td>&lt;=50K</td>\n",
       "    </tr>\n",
       "    <tr>\n",
       "      <th>4</th>\n",
       "      <td>28</td>\n",
       "      <td>Private</td>\n",
       "      <td>338409</td>\n",
       "      <td>Bachelors</td>\n",
       "      <td>13</td>\n",
       "      <td>Married-civ-spouse</td>\n",
       "      <td>Prof-specialty</td>\n",
       "      <td>Wife</td>\n",
       "      <td>Black</td>\n",
       "      <td>Female</td>\n",
       "      <td>0</td>\n",
       "      <td>0</td>\n",
       "      <td>40</td>\n",
       "      <td>Cuba</td>\n",
       "      <td>&lt;=50K</td>\n",
       "    </tr>\n",
       "  </tbody>\n",
       "</table>\n",
       "</div>"
      ],
      "text/plain": [
       "   age         workclass  fnlwgt  education  ...  capital-loss hours-per-week native-country salary\n",
       "0   39         State-gov   77516  Bachelors  ...             0             40  United-States  <=50K\n",
       "1   50  Self-emp-not-inc   83311  Bachelors  ...             0             13  United-States  <=50K\n",
       "2   38           Private  215646    HS-grad  ...             0             40  United-States  <=50K\n",
       "3   53           Private  234721       11th  ...             0             40  United-States  <=50K\n",
       "4   28           Private  338409  Bachelors  ...             0             40           Cuba  <=50K\n",
       "\n",
       "[5 rows x 15 columns]"
      ]
     },
     "execution_count": 19,
     "metadata": {},
     "output_type": "execute_result"
    }
   ],
   "source": [
    "df.head()"
   ]
  },
  {
   "cell_type": "code",
   "execution_count": 23,
   "id": "b4993311-54f4-47b8-9958-ba34bc6e1919",
   "metadata": {},
   "outputs": [
    {
     "data": {
      "text/plain": [
       "age                  73\n",
       "workclass             9\n",
       "fnlwgt            21648\n",
       "education            16\n",
       "education-num        16\n",
       "marital-status        7\n",
       "occupation           15\n",
       "relationship          6\n",
       "race                  5\n",
       "sex                   2\n",
       "capital-gain        119\n",
       "capital-loss         92\n",
       "hours-per-week       94\n",
       "native-country       42\n",
       "salary                2\n",
       "dtype: int64"
      ]
     },
     "execution_count": 23,
     "metadata": {},
     "output_type": "execute_result"
    }
   ],
   "source": [
    "df.nunique()"
   ]
  },
  {
   "cell_type": "code",
   "execution_count": 25,
   "id": "324c8ff7-ccbf-489b-b503-f5c440b4d208",
   "metadata": {},
   "outputs": [
    {
     "data": {
      "text/plain": [
       "array(['Male', 'Female'], dtype=object)"
      ]
     },
     "execution_count": 25,
     "metadata": {},
     "output_type": "execute_result"
    }
   ],
   "source": [
    "df.sex.unique()"
   ]
  },
  {
   "cell_type": "code",
   "execution_count": 2,
   "id": "bfa43342-b3c0-4ced-a134-0176b1b212f6",
   "metadata": {},
   "outputs": [],
   "source": [
    "men= df[df['sex']=='Male']\n"
   ]
  },
  {
   "cell_type": "markdown",
   "id": "57c31c3f-5a2c-4628-8c72-7b26ca394dde",
   "metadata": {},
   "source": [
    "<h3> Average age of men </h3>"
   ]
  },
  {
   "cell_type": "code",
   "execution_count": 5,
   "id": "66ed0ab2-e7ef-4659-8acc-fad25de2281b",
   "metadata": {},
   "outputs": [
    {
     "name": "stdout",
     "output_type": "stream",
     "text": [
      "39.4\n"
     ]
    }
   ],
   "source": [
    "# What is the average age of men?\n",
    "average_age_men = men.age.mean().round(1)\n",
    "print(average_age_men)"
   ]
  },
  {
   "cell_type": "code",
   "execution_count": 16,
   "id": "5ed1865c-2236-491b-ac3f-ab6e7a3b2071",
   "metadata": {},
   "outputs": [
    {
     "name": "stdout",
     "output_type": "stream",
     "text": [
      "education\n",
      "HS-grad         10501\n",
      "Some-college     7291\n",
      "Bachelors        5355\n",
      "Masters          1723\n",
      "Assoc-voc        1382\n",
      "11th             1175\n",
      "Assoc-acdm       1067\n",
      "10th              933\n",
      "7th-8th           646\n",
      "Prof-school       576\n",
      "9th               514\n",
      "12th              433\n",
      "Doctorate         413\n",
      "5th-6th           333\n",
      "1st-4th           168\n",
      "Preschool          51\n",
      "Name: count, dtype: int64\n"
     ]
    },
    {
     "data": {
      "text/plain": [
       "5355"
      ]
     },
     "execution_count": 16,
     "metadata": {},
     "output_type": "execute_result"
    }
   ],
   "source": [
    "educ_series=df.education.value_counts()\n",
    "print(educ_series)\n"
   ]
  },
  {
   "cell_type": "code",
   "execution_count": 47,
   "id": "ae3e2ee1-c29c-4e72-a95e-54ac8f6c3cff",
   "metadata": {},
   "outputs": [
    {
     "name": "stdout",
     "output_type": "stream",
     "text": [
      "32561\n"
     ]
    }
   ],
   "source": [
    "educ_total=educ_series.sum()\n",
    "print(educ_total)"
   ]
  },
  {
   "cell_type": "code",
   "execution_count": 17,
   "id": "f8dcd0f1-4390-472a-884b-db57d365372b",
   "metadata": {},
   "outputs": [
    {
     "data": {
      "text/plain": [
       "5355"
      ]
     },
     "execution_count": 17,
     "metadata": {},
     "output_type": "execute_result"
    }
   ],
   "source": [
    "educ_series['Bachelors']"
   ]
  },
  {
   "cell_type": "code",
   "execution_count": 245,
   "id": "c5c941ce-b30c-4080-8aee-39b49844f693",
   "metadata": {},
   "outputs": [
    {
     "name": "stdout",
     "output_type": "stream",
     "text": [
      "16.4\n"
     ]
    }
   ],
   "source": [
    "# What is the percentage of people who have a Bachelor's degree?\n",
    "educ_series=df.education.value_counts()\n",
    "educ_total=educ_series.sum()\n",
    "percentage_bachelors = ((educ_series['Bachelors']/educ_total)*100).round(1)\n",
    "print(percentage_bachelors)"
   ]
  },
  {
   "cell_type": "code",
   "execution_count": 246,
   "id": "490e18cd-eddb-4c02-8641-b1399492b414",
   "metadata": {},
   "outputs": [
    {
     "name": "stdout",
     "output_type": "stream",
     "text": [
      "7491\n",
      "25070\n"
     ]
    }
   ],
   "source": [
    "# What percentage of people with advanced education (`Bachelors`, `Masters`, or `Doctorate`) make more than 50K?\n",
    "# What percentage of people without advanced education make more than 50K?\n",
    "\n",
    "# with and without `Bachelors`, `Masters`, or `Doctorate`\n",
    "higher_education = pd.Series(educ_series, index=['Bachelors','Masters','Doctorate']).sum()\n",
    "lower_education = educ_total-higher_education\n",
    "print(higher_education)\n",
    "print(lower_education)"
   ]
  },
  {
   "cell_type": "code",
   "execution_count": 34,
   "id": "5e3dadbe-d929-4dce-832a-8c30e6d31344",
   "metadata": {},
   "outputs": [
    {
     "data": {
      "text/plain": [
       "array(['<=50K', '>50K'], dtype=object)"
      ]
     },
     "execution_count": 34,
     "metadata": {},
     "output_type": "execute_result"
    }
   ],
   "source": [
    "df['salary'].unique()"
   ]
  },
  {
   "cell_type": "code",
   "execution_count": 41,
   "id": "7106a7a4-d12c-4f47-9dd0-fac683a87426",
   "metadata": {},
   "outputs": [
    {
     "name": "stdout",
     "output_type": "stream",
     "text": [
      "education\n",
      "10th              62\n",
      "11th              60\n",
      "12th              33\n",
      "1st-4th            6\n",
      "5th-6th           16\n",
      "7th-8th           40\n",
      "9th               27\n",
      "Assoc-acdm       265\n",
      "Assoc-voc        361\n",
      "Bachelors       2221\n",
      "Doctorate        306\n",
      "HS-grad         1675\n",
      "Masters          959\n",
      "Prof-school      423\n",
      "Some-college    1387\n",
      "Name: education, dtype: int64\n"
     ]
    }
   ],
   "source": [
    "edu_rich_series =df[df['salary']=='>50K'].groupby(['education'])['education'].count()\n",
    "print(edu_rich_series)"
   ]
  },
  {
   "cell_type": "code",
   "execution_count": 46,
   "id": "8b95413a-6a7d-4286-9441-d93952408b14",
   "metadata": {},
   "outputs": [
    {
     "data": {
      "text/plain": [
       "7841"
      ]
     },
     "execution_count": 46,
     "metadata": {},
     "output_type": "execute_result"
    }
   ],
   "source": [
    "edu_rich_series.sum()"
   ]
  },
  {
   "cell_type": "code",
   "execution_count": 43,
   "id": "95312959-b29f-44ad-8bea-9767099c6e1e",
   "metadata": {},
   "outputs": [
    {
     "name": "stdout",
     "output_type": "stream",
     "text": [
      "3486\n"
     ]
    }
   ],
   "source": [
    "high_ed_rich_pop = pd.Series(edu_rich_series,index=['Bachelors','Masters','Doctorate']).sum()\n",
    "print(high_ed_rich_pop)"
   ]
  },
  {
   "cell_type": "code",
   "execution_count": 44,
   "id": "4ac19973-843d-454a-ad61-4197c4ceb505",
   "metadata": {},
   "outputs": [
    {
     "data": {
      "text/plain": [
       "0.46535843011613937"
      ]
     },
     "execution_count": 44,
     "metadata": {},
     "output_type": "execute_result"
    }
   ],
   "source": [
    "high_ed_rich_pop/higher_education"
   ]
  },
  {
   "cell_type": "code",
   "execution_count": 49,
   "id": "00cb39c7-3309-4822-bd36-5ccdfb9fd4c2",
   "metadata": {},
   "outputs": [
    {
     "name": "stdout",
     "output_type": "stream",
     "text": [
      "4355\n"
     ]
    }
   ],
   "source": [
    "low_ed_rich_pop = edu_rich_series.sum()-high_ed_rich_pop\n",
    "print(low_ed_rich_pop)"
   ]
  },
  {
   "cell_type": "code",
   "execution_count": 50,
   "id": "ec577c8c-2d03-4d11-9298-d39c17a8ed61",
   "metadata": {},
   "outputs": [
    {
     "data": {
      "text/plain": [
       "0.173713601914639"
      ]
     },
     "execution_count": 50,
     "metadata": {},
     "output_type": "execute_result"
    }
   ],
   "source": [
    "low_ed_rich_pop/lower_education"
   ]
  },
  {
   "cell_type": "code",
   "execution_count": 51,
   "id": "aee5f417-c30b-413f-a9ba-03afceea72d9",
   "metadata": {},
   "outputs": [],
   "source": [
    "# percentage with salary >50K\n",
    "higher_education_rich = ((high_ed_rich_pop/higher_education)*100).round(1)\n",
    "lower_education_rich = ((low_ed_rich_pop/lower_education)*100).round(1)\n"
   ]
  },
  {
   "cell_type": "code",
   "execution_count": 255,
   "id": "a966fdf3-d5c5-4a57-b130-8b92113a5655",
   "metadata": {},
   "outputs": [
    {
     "data": {
      "text/plain": [
       "17.4"
      ]
     },
     "execution_count": 255,
     "metadata": {},
     "output_type": "execute_result"
    }
   ],
   "source": [
    "((low_ed_rich_pop/lower_education)*100).round(1)"
   ]
  },
  {
   "cell_type": "code",
   "execution_count": null,
   "id": "88a78d17-1778-4084-ae7c-077374f7a12e",
   "metadata": {},
   "outputs": [],
   "source": [
    "# What is the minimum number of hours a person works per week (hours-per-week feature)?\n",
    "min_work_hours = None\n",
    "\n",
    "# What percentage of the people who work the minimum number of hours per week have a salary of >50K?\n",
    "num_min_workers = None\n",
    "\n",
    "rich_percentage = None\n",
    "\n",
    "# What country has the highest percentage of people that earn >50K?\n",
    "highest_earning_country = None\n",
    "highest_earning_country_percentage = None\n",
    "\n",
    "# Identify the most popular occupation for those who earn >50K in India.\n",
    " top_IN_occupation = None"
   ]
  },
  {
   "cell_type": "code",
   "execution_count": 55,
   "id": "98aae21e-81b0-4fcb-87ac-519ed9bcc3e6",
   "metadata": {},
   "outputs": [
    {
     "data": {
      "text/plain": [
       "array([40, 13, 16, 45, 50, 80, 30, 35, 60, 20, 52, 44, 15, 25, 38, 43, 55,\n",
       "       48, 58, 32, 70,  2, 22, 56, 41, 28, 36, 24, 46, 42, 12, 65,  1, 10,\n",
       "       34, 75, 98, 33, 54,  8,  6, 64, 19, 18, 72,  5,  9, 47, 37, 21, 26,\n",
       "       14,  4, 59,  7, 99, 53, 39, 62, 57, 78, 90, 66, 11, 49, 84,  3, 17,\n",
       "       68, 27, 85, 31, 51, 77, 63, 23, 87, 88, 73, 89, 97, 94, 29, 96, 67,\n",
       "       82, 86, 91, 81, 76, 92, 61, 74, 95], dtype=int64)"
      ]
     },
     "execution_count": 55,
     "metadata": {},
     "output_type": "execute_result"
    }
   ],
   "source": [
    "df['hours-per-week'].unique()"
   ]
  },
  {
   "cell_type": "code",
   "execution_count": 56,
   "id": "55ff3fed-e01d-47f3-93e9-f7f494193182",
   "metadata": {},
   "outputs": [
    {
     "data": {
      "text/plain": [
       "count    32561.000000\n",
       "mean        40.437456\n",
       "std         12.347429\n",
       "min          1.000000\n",
       "25%         40.000000\n",
       "50%         40.000000\n",
       "75%         45.000000\n",
       "max         99.000000\n",
       "Name: hours-per-week, dtype: float64"
      ]
     },
     "execution_count": 56,
     "metadata": {},
     "output_type": "execute_result"
    }
   ],
   "source": [
    "df['hours-per-week'].describe()"
   ]
  },
  {
   "cell_type": "code",
   "execution_count": 247,
   "id": "75303560-4c1a-4f94-a180-879695ae7703",
   "metadata": {},
   "outputs": [],
   "source": [
    "# What is the minimum number of hours a person works per week (hours-per-week feature)?\n",
    "min_work_hours = df['hours-per-week'].min()"
   ]
  },
  {
   "cell_type": "code",
   "execution_count": 67,
   "id": "5051e5df-4738-4d03-940c-f01b9588fa37",
   "metadata": {},
   "outputs": [
    {
     "data": {
      "text/html": [
       "<div>\n",
       "<style scoped>\n",
       "    .dataframe tbody tr th:only-of-type {\n",
       "        vertical-align: middle;\n",
       "    }\n",
       "\n",
       "    .dataframe tbody tr th {\n",
       "        vertical-align: top;\n",
       "    }\n",
       "\n",
       "    .dataframe thead th {\n",
       "        text-align: right;\n",
       "    }\n",
       "</style>\n",
       "<table border=\"1\" class=\"dataframe\">\n",
       "  <thead>\n",
       "    <tr style=\"text-align: right;\">\n",
       "      <th></th>\n",
       "      <th>age</th>\n",
       "      <th>workclass</th>\n",
       "      <th>fnlwgt</th>\n",
       "      <th>education</th>\n",
       "      <th>education-num</th>\n",
       "      <th>marital-status</th>\n",
       "      <th>occupation</th>\n",
       "      <th>relationship</th>\n",
       "      <th>race</th>\n",
       "      <th>sex</th>\n",
       "      <th>capital-gain</th>\n",
       "      <th>capital-loss</th>\n",
       "      <th>hours-per-week</th>\n",
       "      <th>native-country</th>\n",
       "      <th>salary</th>\n",
       "    </tr>\n",
       "  </thead>\n",
       "  <tbody>\n",
       "    <tr>\n",
       "      <th>38</th>\n",
       "      <td>31</td>\n",
       "      <td>Private</td>\n",
       "      <td>84154</td>\n",
       "      <td>Some-college</td>\n",
       "      <td>10</td>\n",
       "      <td>Married-civ-spouse</td>\n",
       "      <td>Sales</td>\n",
       "      <td>Husband</td>\n",
       "      <td>White</td>\n",
       "      <td>Male</td>\n",
       "      <td>0</td>\n",
       "      <td>0</td>\n",
       "      <td>38</td>\n",
       "      <td>?</td>\n",
       "      <td>&gt;50K</td>\n",
       "    </tr>\n",
       "    <tr>\n",
       "      <th>180</th>\n",
       "      <td>44</td>\n",
       "      <td>Local-gov</td>\n",
       "      <td>181344</td>\n",
       "      <td>Some-college</td>\n",
       "      <td>10</td>\n",
       "      <td>Married-civ-spouse</td>\n",
       "      <td>Exec-managerial</td>\n",
       "      <td>Husband</td>\n",
       "      <td>Black</td>\n",
       "      <td>Male</td>\n",
       "      <td>0</td>\n",
       "      <td>0</td>\n",
       "      <td>38</td>\n",
       "      <td>United-States</td>\n",
       "      <td>&gt;50K</td>\n",
       "    </tr>\n",
       "    <tr>\n",
       "      <th>189</th>\n",
       "      <td>58</td>\n",
       "      <td>State-gov</td>\n",
       "      <td>109567</td>\n",
       "      <td>Doctorate</td>\n",
       "      <td>16</td>\n",
       "      <td>Married-civ-spouse</td>\n",
       "      <td>Prof-specialty</td>\n",
       "      <td>Husband</td>\n",
       "      <td>White</td>\n",
       "      <td>Male</td>\n",
       "      <td>0</td>\n",
       "      <td>0</td>\n",
       "      <td>1</td>\n",
       "      <td>United-States</td>\n",
       "      <td>&gt;50K</td>\n",
       "    </tr>\n",
       "    <tr>\n",
       "      <th>206</th>\n",
       "      <td>36</td>\n",
       "      <td>Private</td>\n",
       "      <td>128757</td>\n",
       "      <td>Bachelors</td>\n",
       "      <td>13</td>\n",
       "      <td>Married-civ-spouse</td>\n",
       "      <td>Other-service</td>\n",
       "      <td>Husband</td>\n",
       "      <td>Black</td>\n",
       "      <td>Male</td>\n",
       "      <td>7298</td>\n",
       "      <td>0</td>\n",
       "      <td>36</td>\n",
       "      <td>United-States</td>\n",
       "      <td>&gt;50K</td>\n",
       "    </tr>\n",
       "    <tr>\n",
       "      <th>208</th>\n",
       "      <td>58</td>\n",
       "      <td>Self-emp-inc</td>\n",
       "      <td>210563</td>\n",
       "      <td>HS-grad</td>\n",
       "      <td>9</td>\n",
       "      <td>Married-civ-spouse</td>\n",
       "      <td>Sales</td>\n",
       "      <td>Wife</td>\n",
       "      <td>White</td>\n",
       "      <td>Female</td>\n",
       "      <td>15024</td>\n",
       "      <td>0</td>\n",
       "      <td>35</td>\n",
       "      <td>United-States</td>\n",
       "      <td>&gt;50K</td>\n",
       "    </tr>\n",
       "    <tr>\n",
       "      <th>...</th>\n",
       "      <td>...</td>\n",
       "      <td>...</td>\n",
       "      <td>...</td>\n",
       "      <td>...</td>\n",
       "      <td>...</td>\n",
       "      <td>...</td>\n",
       "      <td>...</td>\n",
       "      <td>...</td>\n",
       "      <td>...</td>\n",
       "      <td>...</td>\n",
       "      <td>...</td>\n",
       "      <td>...</td>\n",
       "      <td>...</td>\n",
       "      <td>...</td>\n",
       "      <td>...</td>\n",
       "    </tr>\n",
       "    <tr>\n",
       "      <th>32347</th>\n",
       "      <td>36</td>\n",
       "      <td>State-gov</td>\n",
       "      <td>212143</td>\n",
       "      <td>Bachelors</td>\n",
       "      <td>13</td>\n",
       "      <td>Married-civ-spouse</td>\n",
       "      <td>Adm-clerical</td>\n",
       "      <td>Wife</td>\n",
       "      <td>White</td>\n",
       "      <td>Female</td>\n",
       "      <td>0</td>\n",
       "      <td>0</td>\n",
       "      <td>20</td>\n",
       "      <td>United-States</td>\n",
       "      <td>&gt;50K</td>\n",
       "    </tr>\n",
       "    <tr>\n",
       "      <th>32438</th>\n",
       "      <td>66</td>\n",
       "      <td>Self-emp-not-inc</td>\n",
       "      <td>102686</td>\n",
       "      <td>Masters</td>\n",
       "      <td>14</td>\n",
       "      <td>Married-civ-spouse</td>\n",
       "      <td>Exec-managerial</td>\n",
       "      <td>Husband</td>\n",
       "      <td>White</td>\n",
       "      <td>Male</td>\n",
       "      <td>0</td>\n",
       "      <td>0</td>\n",
       "      <td>20</td>\n",
       "      <td>United-States</td>\n",
       "      <td>&gt;50K</td>\n",
       "    </tr>\n",
       "    <tr>\n",
       "      <th>32513</th>\n",
       "      <td>46</td>\n",
       "      <td>Private</td>\n",
       "      <td>42972</td>\n",
       "      <td>Masters</td>\n",
       "      <td>14</td>\n",
       "      <td>Married-civ-spouse</td>\n",
       "      <td>Prof-specialty</td>\n",
       "      <td>Wife</td>\n",
       "      <td>White</td>\n",
       "      <td>Female</td>\n",
       "      <td>0</td>\n",
       "      <td>0</td>\n",
       "      <td>22</td>\n",
       "      <td>United-States</td>\n",
       "      <td>&gt;50K</td>\n",
       "    </tr>\n",
       "    <tr>\n",
       "      <th>32539</th>\n",
       "      <td>71</td>\n",
       "      <td>?</td>\n",
       "      <td>287372</td>\n",
       "      <td>Doctorate</td>\n",
       "      <td>16</td>\n",
       "      <td>Married-civ-spouse</td>\n",
       "      <td>?</td>\n",
       "      <td>Husband</td>\n",
       "      <td>White</td>\n",
       "      <td>Male</td>\n",
       "      <td>0</td>\n",
       "      <td>0</td>\n",
       "      <td>10</td>\n",
       "      <td>United-States</td>\n",
       "      <td>&gt;50K</td>\n",
       "    </tr>\n",
       "    <tr>\n",
       "      <th>32545</th>\n",
       "      <td>39</td>\n",
       "      <td>Local-gov</td>\n",
       "      <td>111499</td>\n",
       "      <td>Assoc-acdm</td>\n",
       "      <td>12</td>\n",
       "      <td>Married-civ-spouse</td>\n",
       "      <td>Adm-clerical</td>\n",
       "      <td>Wife</td>\n",
       "      <td>White</td>\n",
       "      <td>Female</td>\n",
       "      <td>0</td>\n",
       "      <td>0</td>\n",
       "      <td>20</td>\n",
       "      <td>United-States</td>\n",
       "      <td>&gt;50K</td>\n",
       "    </tr>\n",
       "  </tbody>\n",
       "</table>\n",
       "<p>738 rows × 15 columns</p>\n",
       "</div>"
      ],
      "text/plain": [
       "       age         workclass  fnlwgt     education  education-num  \\\n",
       "38      31           Private   84154  Some-college             10   \n",
       "180     44         Local-gov  181344  Some-college             10   \n",
       "189     58         State-gov  109567     Doctorate             16   \n",
       "206     36           Private  128757     Bachelors             13   \n",
       "208     58      Self-emp-inc  210563       HS-grad              9   \n",
       "...    ...               ...     ...           ...            ...   \n",
       "32347   36         State-gov  212143     Bachelors             13   \n",
       "32438   66  Self-emp-not-inc  102686       Masters             14   \n",
       "32513   46           Private   42972       Masters             14   \n",
       "32539   71                 ?  287372     Doctorate             16   \n",
       "32545   39         Local-gov  111499    Assoc-acdm             12   \n",
       "\n",
       "           marital-status       occupation relationship   race     sex  \\\n",
       "38     Married-civ-spouse            Sales      Husband  White    Male   \n",
       "180    Married-civ-spouse  Exec-managerial      Husband  Black    Male   \n",
       "189    Married-civ-spouse   Prof-specialty      Husband  White    Male   \n",
       "206    Married-civ-spouse    Other-service      Husband  Black    Male   \n",
       "208    Married-civ-spouse            Sales         Wife  White  Female   \n",
       "...                   ...              ...          ...    ...     ...   \n",
       "32347  Married-civ-spouse     Adm-clerical         Wife  White  Female   \n",
       "32438  Married-civ-spouse  Exec-managerial      Husband  White    Male   \n",
       "32513  Married-civ-spouse   Prof-specialty         Wife  White  Female   \n",
       "32539  Married-civ-spouse                ?      Husband  White    Male   \n",
       "32545  Married-civ-spouse     Adm-clerical         Wife  White  Female   \n",
       "\n",
       "       capital-gain  capital-loss  hours-per-week native-country salary  \n",
       "38                0             0              38              ?   >50K  \n",
       "180               0             0              38  United-States   >50K  \n",
       "189               0             0               1  United-States   >50K  \n",
       "206            7298             0              36  United-States   >50K  \n",
       "208           15024             0              35  United-States   >50K  \n",
       "...             ...           ...             ...            ...    ...  \n",
       "32347             0             0              20  United-States   >50K  \n",
       "32438             0             0              20  United-States   >50K  \n",
       "32513             0             0              22  United-States   >50K  \n",
       "32539             0             0              10  United-States   >50K  \n",
       "32545             0             0              20  United-States   >50K  \n",
       "\n",
       "[738 rows x 15 columns]"
      ]
     },
     "execution_count": 67,
     "metadata": {},
     "output_type": "execute_result"
    }
   ],
   "source": [
    "df[(df['hours-per-week']<40) & (df['salary']=='>50K')]"
   ]
  },
  {
   "cell_type": "code",
   "execution_count": 74,
   "id": "eebf212b-1e18-4d85-9ada-9a086184f16f",
   "metadata": {},
   "outputs": [
    {
     "data": {
      "text/plain": [
       "738"
      ]
     },
     "execution_count": 74,
     "metadata": {},
     "output_type": "execute_result"
    }
   ],
   "source": [
    "df[(df['hours-per-week']<40) & (df['salary']=='>50K')]['salary'].count()"
   ]
  },
  {
   "cell_type": "code",
   "execution_count": 254,
   "id": "a2e4d1ea-7f4f-42c7-9fa3-59fae0173f4a",
   "metadata": {},
   "outputs": [
    {
     "name": "stdout",
     "output_type": "stream",
     "text": [
      "738\n",
      "7841\n",
      "9.41\n"
     ]
    }
   ],
   "source": [
    "# What is the minimum number of hours a person works per week (hours-per-week feature)?\n",
    "min_work_hours = df['hours-per-week'].min()\n",
    "\n",
    "# What percentage of the people who work the minimum number of hours per week have a salary of >50K?\n",
    "num_min_workers = df[(df['hours-per-week']<40) & (df['salary']=='>50K')]['salary'].count()\n",
    "\n",
    "rich_percentage = ((num_min_workers/edu_rich_series.sum())*100).round(2)\n",
    "print(num_min_workers)\n",
    "print(edu_rich_series.sum())\n",
    "print(rich_percentage)"
   ]
  },
  {
   "cell_type": "code",
   "execution_count": 163,
   "id": "59c98ac1-d202-42b1-8f48-861dbb96bfe0",
   "metadata": {},
   "outputs": [
    {
     "data": {
      "text/html": [
       "<div>\n",
       "<style scoped>\n",
       "    .dataframe tbody tr th:only-of-type {\n",
       "        vertical-align: middle;\n",
       "    }\n",
       "\n",
       "    .dataframe tbody tr th {\n",
       "        vertical-align: top;\n",
       "    }\n",
       "\n",
       "    .dataframe thead th {\n",
       "        text-align: right;\n",
       "    }\n",
       "</style>\n",
       "<table border=\"1\" class=\"dataframe\">\n",
       "  <thead>\n",
       "    <tr style=\"text-align: right;\">\n",
       "      <th></th>\n",
       "      <th>capital-gain</th>\n",
       "      <th>capital-loss</th>\n",
       "    </tr>\n",
       "    <tr>\n",
       "      <th>native-country</th>\n",
       "      <th></th>\n",
       "      <th></th>\n",
       "    </tr>\n",
       "  </thead>\n",
       "  <tbody>\n",
       "    <tr>\n",
       "      <th>?</th>\n",
       "      <td>1053200</td>\n",
       "      <td>68949</td>\n",
       "    </tr>\n",
       "    <tr>\n",
       "      <th>Cambodia</th>\n",
       "      <td>19529</td>\n",
       "      <td>3478</td>\n",
       "    </tr>\n",
       "    <tr>\n",
       "      <th>Canada</th>\n",
       "      <td>182000</td>\n",
       "      <td>15722</td>\n",
       "    </tr>\n",
       "    <tr>\n",
       "      <th>China</th>\n",
       "      <td>27486</td>\n",
       "      <td>13464</td>\n",
       "    </tr>\n",
       "    <tr>\n",
       "      <th>Columbia</th>\n",
       "      <td>10656</td>\n",
       "      <td>1602</td>\n",
       "    </tr>\n",
       "    <tr>\n",
       "      <th>Cuba</th>\n",
       "      <td>34887</td>\n",
       "      <td>6654</td>\n",
       "    </tr>\n",
       "    <tr>\n",
       "      <th>Dominican-Republic</th>\n",
       "      <td>103324</td>\n",
       "      <td>1762</td>\n",
       "    </tr>\n",
       "    <tr>\n",
       "      <th>Ecuador</th>\n",
       "      <td>14773</td>\n",
       "      <td>0</td>\n",
       "    </tr>\n",
       "    <tr>\n",
       "      <th>El-Salvador</th>\n",
       "      <td>60878</td>\n",
       "      <td>3298</td>\n",
       "    </tr>\n",
       "    <tr>\n",
       "      <th>England</th>\n",
       "      <td>77825</td>\n",
       "      <td>7448</td>\n",
       "    </tr>\n",
       "    <tr>\n",
       "      <th>France</th>\n",
       "      <td>15864</td>\n",
       "      <td>0</td>\n",
       "    </tr>\n",
       "    <tr>\n",
       "      <th>Germany</th>\n",
       "      <td>121532</td>\n",
       "      <td>10683</td>\n",
       "    </tr>\n",
       "    <tr>\n",
       "      <th>Greece</th>\n",
       "      <td>37233</td>\n",
       "      <td>8568</td>\n",
       "    </tr>\n",
       "    <tr>\n",
       "      <th>Guatemala</th>\n",
       "      <td>14773</td>\n",
       "      <td>1594</td>\n",
       "    </tr>\n",
       "    <tr>\n",
       "      <th>Haiti</th>\n",
       "      <td>0</td>\n",
       "      <td>3225</td>\n",
       "    </tr>\n",
       "    <tr>\n",
       "      <th>Holand-Netherlands</th>\n",
       "      <td>0</td>\n",
       "      <td>2205</td>\n",
       "    </tr>\n",
       "    <tr>\n",
       "      <th>Honduras</th>\n",
       "      <td>0</td>\n",
       "      <td>1902</td>\n",
       "    </tr>\n",
       "    <tr>\n",
       "      <th>Hong</th>\n",
       "      <td>0</td>\n",
       "      <td>1977</td>\n",
       "    </tr>\n",
       "    <tr>\n",
       "      <th>Hungary</th>\n",
       "      <td>9316</td>\n",
       "      <td>1668</td>\n",
       "    </tr>\n",
       "    <tr>\n",
       "      <th>India</th>\n",
       "      <td>360492</td>\n",
       "      <td>13112</td>\n",
       "    </tr>\n",
       "    <tr>\n",
       "      <th>Iran</th>\n",
       "      <td>87920</td>\n",
       "      <td>5453</td>\n",
       "    </tr>\n",
       "    <tr>\n",
       "      <th>Ireland</th>\n",
       "      <td>7787</td>\n",
       "      <td>1887</td>\n",
       "    </tr>\n",
       "    <tr>\n",
       "      <th>Italy</th>\n",
       "      <td>44640</td>\n",
       "      <td>1977</td>\n",
       "    </tr>\n",
       "    <tr>\n",
       "      <th>Jamaica</th>\n",
       "      <td>38486</td>\n",
       "      <td>0</td>\n",
       "    </tr>\n",
       "    <tr>\n",
       "      <th>Japan</th>\n",
       "      <td>157866</td>\n",
       "      <td>3567</td>\n",
       "    </tr>\n",
       "    <tr>\n",
       "      <th>Laos</th>\n",
       "      <td>2885</td>\n",
       "      <td>0</td>\n",
       "    </tr>\n",
       "    <tr>\n",
       "      <th>Mexico</th>\n",
       "      <td>223139</td>\n",
       "      <td>15911</td>\n",
       "    </tr>\n",
       "    <tr>\n",
       "      <th>Nicaragua</th>\n",
       "      <td>6794</td>\n",
       "      <td>3427</td>\n",
       "    </tr>\n",
       "    <tr>\n",
       "      <th>Outlying-US(Guam-USVI-etc)</th>\n",
       "      <td>0</td>\n",
       "      <td>0</td>\n",
       "    </tr>\n",
       "    <tr>\n",
       "      <th>Peru</th>\n",
       "      <td>1831</td>\n",
       "      <td>1848</td>\n",
       "    </tr>\n",
       "    <tr>\n",
       "      <th>Philippines</th>\n",
       "      <td>201632</td>\n",
       "      <td>19593</td>\n",
       "    </tr>\n",
       "    <tr>\n",
       "      <th>Poland</th>\n",
       "      <td>41057</td>\n",
       "      <td>2051</td>\n",
       "    </tr>\n",
       "    <tr>\n",
       "      <th>Portugal</th>\n",
       "      <td>8450</td>\n",
       "      <td>0</td>\n",
       "    </tr>\n",
       "    <tr>\n",
       "      <th>Puerto-Rico</th>\n",
       "      <td>36160</td>\n",
       "      <td>6296</td>\n",
       "    </tr>\n",
       "    <tr>\n",
       "      <th>Scotland</th>\n",
       "      <td>5178</td>\n",
       "      <td>0</td>\n",
       "    </tr>\n",
       "    <tr>\n",
       "      <th>South</th>\n",
       "      <td>149579</td>\n",
       "      <td>13554</td>\n",
       "    </tr>\n",
       "    <tr>\n",
       "      <th>Taiwan</th>\n",
       "      <td>109499</td>\n",
       "      <td>7896</td>\n",
       "    </tr>\n",
       "    <tr>\n",
       "      <th>Thailand</th>\n",
       "      <td>0</td>\n",
       "      <td>0</td>\n",
       "    </tr>\n",
       "    <tr>\n",
       "      <th>Trinadad&amp;Tobago</th>\n",
       "      <td>0</td>\n",
       "      <td>4226</td>\n",
       "    </tr>\n",
       "    <tr>\n",
       "      <th>United-States</th>\n",
       "      <td>31772837</td>\n",
       "      <td>2581854</td>\n",
       "    </tr>\n",
       "    <tr>\n",
       "      <th>Vietnam</th>\n",
       "      <td>44260</td>\n",
       "      <td>5849</td>\n",
       "    </tr>\n",
       "    <tr>\n",
       "      <th>Yugoslavia</th>\n",
       "      <td>5556</td>\n",
       "      <td>0</td>\n",
       "    </tr>\n",
       "  </tbody>\n",
       "</table>\n",
       "</div>"
      ],
      "text/plain": [
       "                            capital-gain  capital-loss\n",
       "native-country                                        \n",
       "?                                1053200         68949\n",
       "Cambodia                           19529          3478\n",
       "Canada                            182000         15722\n",
       "China                              27486         13464\n",
       "Columbia                           10656          1602\n",
       "Cuba                               34887          6654\n",
       "Dominican-Republic                103324          1762\n",
       "Ecuador                            14773             0\n",
       "El-Salvador                        60878          3298\n",
       "England                            77825          7448\n",
       "France                             15864             0\n",
       "Germany                           121532         10683\n",
       "Greece                             37233          8568\n",
       "Guatemala                          14773          1594\n",
       "Haiti                                  0          3225\n",
       "Holand-Netherlands                     0          2205\n",
       "Honduras                               0          1902\n",
       "Hong                                   0          1977\n",
       "Hungary                             9316          1668\n",
       "India                             360492         13112\n",
       "Iran                               87920          5453\n",
       "Ireland                             7787          1887\n",
       "Italy                              44640          1977\n",
       "Jamaica                            38486             0\n",
       "Japan                             157866          3567\n",
       "Laos                                2885             0\n",
       "Mexico                            223139         15911\n",
       "Nicaragua                           6794          3427\n",
       "Outlying-US(Guam-USVI-etc)             0             0\n",
       "Peru                                1831          1848\n",
       "Philippines                       201632         19593\n",
       "Poland                             41057          2051\n",
       "Portugal                            8450             0\n",
       "Puerto-Rico                        36160          6296\n",
       "Scotland                            5178             0\n",
       "South                             149579         13554\n",
       "Taiwan                            109499          7896\n",
       "Thailand                               0             0\n",
       "Trinadad&Tobago                        0          4226\n",
       "United-States                   31772837       2581854\n",
       "Vietnam                            44260          5849\n",
       "Yugoslavia                          5556             0"
      ]
     },
     "execution_count": 163,
     "metadata": {},
     "output_type": "execute_result"
    }
   ],
   "source": [
    "df.groupby('native-country')[['capital-gain','capital-loss']].sum()"
   ]
  },
  {
   "cell_type": "code",
   "execution_count": 205,
   "id": "b814cf0f-aeb6-4c31-a2fe-d95d3464f420",
   "metadata": {},
   "outputs": [
    {
     "data": {
      "text/plain": [
       "0.4186046511627907"
      ]
     },
     "execution_count": 205,
     "metadata": {},
     "output_type": "execute_result"
    }
   ],
   "source": [
    "18/43\n"
   ]
  },
  {
   "cell_type": "code",
   "execution_count": 204,
   "id": "819892a6-cba0-4a80-a77e-765997c0d5d9",
   "metadata": {},
   "outputs": [
    {
     "data": {
      "text/plain": [
       "native-country\n",
       "?                      146\n",
       "Cambodia                 7\n",
       "Canada                  39\n",
       "China                   20\n",
       "Columbia                 2\n",
       "Cuba                    25\n",
       "Dominican-Republic       2\n",
       "Ecuador                  4\n",
       "El-Salvador              9\n",
       "England                 30\n",
       "France                  12\n",
       "Germany                 44\n",
       "Greece                   8\n",
       "Guatemala                3\n",
       "Haiti                    4\n",
       "Honduras                 1\n",
       "Hong                     6\n",
       "Hungary                  3\n",
       "India                   40\n",
       "Iran                    18\n",
       "Ireland                  5\n",
       "Italy                   25\n",
       "Jamaica                 10\n",
       "Japan                   24\n",
       "Laos                     2\n",
       "Mexico                  33\n",
       "Nicaragua                2\n",
       "Peru                     2\n",
       "Philippines             61\n",
       "Poland                  12\n",
       "Portugal                 4\n",
       "Puerto-Rico             12\n",
       "Scotland                 3\n",
       "South                   16\n",
       "Taiwan                  20\n",
       "Thailand                 3\n",
       "Trinadad&Tobago          2\n",
       "United-States         7171\n",
       "Vietnam                  5\n",
       "Yugoslavia               6\n",
       "Name: native-country, dtype: int64"
      ]
     },
     "execution_count": 204,
     "metadata": {},
     "output_type": "execute_result"
    }
   ],
   "source": [
    "df[df['salary']=='>50K'].groupby(['native-country'])['native-country'].count()"
   ]
  },
  {
   "cell_type": "code",
   "execution_count": 176,
   "id": "11a39a09-8706-4d89-92db-5d2474f82384",
   "metadata": {},
   "outputs": [],
   "source": [
    "high_earners_by_country_sum=df[df['salary']=='>50K'].groupby(['native-country'])['native-country'].count()"
   ]
  },
  {
   "cell_type": "code",
   "execution_count": 181,
   "id": "d41f4f49-ec74-4ccf-80ca-6d04c2286478",
   "metadata": {},
   "outputs": [
    {
     "data": {
      "text/plain": [
       "'United-States'"
      ]
     },
     "execution_count": 181,
     "metadata": {},
     "output_type": "execute_result"
    }
   ],
   "source": [
    "high_earners_by_country_sum[high_earners_by_country_sum==high_earners_by_country_sum.max()].index.tolist()[0]"
   ]
  },
  {
   "cell_type": "code",
   "execution_count": 203,
   "id": "4dd1bfe7-a6ed-4255-8cd8-f0b92417af4d",
   "metadata": {},
   "outputs": [
    {
     "data": {
      "text/plain": [
       "0.24583476174151525"
      ]
     },
     "execution_count": 203,
     "metadata": {},
     "output_type": "execute_result"
    }
   ],
   "source": [
    "high_earners_by_country_sum.max()/29170"
   ]
  },
  {
   "cell_type": "code",
   "execution_count": 224,
   "id": "52b8870d-1652-4461-bdda-f2695eef3526",
   "metadata": {},
   "outputs": [
    {
     "data": {
      "text/plain": [
       "native-country\n",
       "Iran    41.860465\n",
       "Name: pct-rich-per-country, dtype: float64"
      ]
     },
     "execution_count": 224,
     "metadata": {},
     "output_type": "execute_result"
    }
   ],
   "source": [
    "country_series=df.groupby(['native-country'])['native-country'].count()\n",
    "country_series=pd.Series(country_series,name='total-workers')\n",
    "rich_per_country=df[df['salary']=='>50K'].groupby(['native-country'])['native-country'].count()\n",
    "rich_per_country=pd.Series(rich_per_country,name='high-income-workers')\n",
    "test = pd.concat([country_series,rich_per_country],axis=1)\n",
    "test['pct-rich-per-country']=(test['high-income-workers']/test['total-workers'])*100\n",
    "test['pct-rich-per-country'].nlargest(1)"
   ]
  },
  {
   "cell_type": "code",
   "execution_count": 235,
   "id": "21febeed-8ed7-464e-bcd6-0d7863420fd7",
   "metadata": {},
   "outputs": [
    {
     "data": {
      "text/plain": [
       "41.86046511627907"
      ]
     },
     "execution_count": 235,
     "metadata": {},
     "output_type": "execute_result"
    }
   ],
   "source": [
    "test['pct-rich-per-country'].nlargest(1).iloc[0]"
   ]
  },
  {
   "cell_type": "code",
   "execution_count": 237,
   "id": "8676ffa4-7d24-45cb-b53b-01c2a24be7ae",
   "metadata": {},
   "outputs": [
    {
     "data": {
      "text/plain": [
       "'Iran'"
      ]
     },
     "execution_count": 237,
     "metadata": {},
     "output_type": "execute_result"
    }
   ],
   "source": [
    "test['pct-rich-per-country'].nlargest(1).index[0]"
   ]
  },
  {
   "cell_type": "code",
   "execution_count": 238,
   "id": "77de7b22-cdd0-43d3-adfb-c83583bd1db1",
   "metadata": {},
   "outputs": [],
   "source": [
    "# What country has the highest percentage of people that earn >50K?\n",
    "\n",
    "highest_earning_country = test['pct-rich-per-country'].nlargest(1).index[0]\n",
    "highest_earning_country_percentage = test['pct-rich-per-country'].nlargest(1).iloc[0]\n"
   ]
  },
  {
   "cell_type": "code",
   "execution_count": 243,
   "id": "5d2e3ec8-a121-497f-a863-7729b183f59d",
   "metadata": {},
   "outputs": [
    {
     "data": {
      "text/plain": [
       "'Prof-specialty'"
      ]
     },
     "execution_count": 243,
     "metadata": {},
     "output_type": "execute_result"
    }
   ],
   "source": [
    "df[(df['native-country']=='India')&(df['salary']=='>50K')].groupby(['occupation'])['occupation'].count().nlargest(1).index[0]"
   ]
  },
  {
   "cell_type": "code",
   "execution_count": null,
   "id": "5616ea66-78fe-4464-a79d-ba553146ff28",
   "metadata": {},
   "outputs": [],
   "source": [
    "\n",
    "# Identify the most popular occupation for those who earn >50K in India.\n",
    " top_IN_occupation = df[(df['native-country']=='India')&(df['salary']=='>50K')].groupby(['occupation'])['occupation'].count().nlargest(1).index[0]"
   ]
  },
  {
   "cell_type": "code",
   "execution_count": null,
   "id": "b4b9e2fe-5440-4b0e-a57d-c8078f6948a5",
   "metadata": {},
   "outputs": [],
   "source": [
    "import pandas as pd\n",
    "\n",
    "\n",
    "def calculate_demographic_data(print_data=True):\n",
    "    # Read data from file\n",
    "    df = pd.read_csv('adult.data.csv')\n",
    "\n",
    "    # How many of each race are represented in this dataset? This should be a Pandas series with race names as the index labels.\n",
    "    race_count = df.race.value_counts()\n",
    "\n",
    "    # What is the average age of men?\n",
    "    men= df[df['sex']=='Male']\n",
    "    average_age_men = men.age.mean().round(1)\n",
    "\n",
    "    # What is the percentage of people who have a Bachelor's degree?\n",
    "    educ_series=df.education.value_counts()\n",
    "    educ_total=educ_series.sum()\n",
    "    percentage_bachelors = ((educ_series['Bachelors']/educ_total)*100).round(1)\n",
    "\n",
    "    # What percentage of people with advanced education (`Bachelors`, `Masters`, or `Doctorate`) make more than 50K?\n",
    "    # What percentage of people without advanced education make more than 50K?\n",
    "\n",
    "    # with and without `Bachelors`, `Masters`, or `Doctorate`\n",
    "    higher_education = pd.Series(educ_series, index=['Bachelors','Masters','Doctorate']).sum()\n",
    "    lower_education = educ_series-higher_education\n",
    "\n",
    "    # percentage with salary >50K\n",
    "    edu_rich_series =df[df['salary']=='>50K'].groupby(['education'])['education'].count()\n",
    "    high_ed_rich_pop = pd.Series(edu_rich_series,index=['Bachelors','Masters','Doctorate']).sum()\n",
    "    low_ed_rich_pop = edu_rich_series.sum()-high_ed_rich_pop\n",
    "    higher_education_rich = ((high_ed_rich_pop/higher_education)*100).round(1)\n",
    "    lower_education_rich = ((low_ed_rich_pop/lower_education)*100).round(1)\n",
    "\n",
    "    # What is the minimum number of hours a person works per week (hours-per-week feature)?\n",
    "    min_work_hours = df['hours-per-week'].min()\n",
    "\n",
    "    # What percentage of the people who work the minimum number of hours per week have a salary of >50K?\n",
    "    num_min_workers =  df[(df['hours-per-week']<40) & (df['salary']=='>50K')]['salary'].count()\n",
    "    min_workers = df[df['hours-per-week']<40]['salary'].count()\n",
    "\n",
    "    rich_percentage = ((num_min_workers/min_workers)*100).round()\n",
    "\n",
    "    # What country has the highest percentage of people that earn >50K?\n",
    "    country_series=df.groupby(['native-country'])['native-country'].count()\n",
    "    country_series=pd.Series(country_series,name='total-workers')\n",
    "    \n",
    "    rich_per_country=df[df['salary']=='>50K'].groupby(['native-country'])['native-country'].count()\n",
    "    rich_per_country=pd.Series(rich_per_country,name='high-income-workers')\n",
    "   \n",
    "    percentage_rich = pd.concat([country_series,rich_per_country],axis=1)\n",
    "    percentage_rich['pct-rich-per-country']=((percentage_rich['high-income-workers']/percentage_rich['total-workers'])*100).round(1)\n",
    "    \n",
    "    highest_earning_country = percentage_rich['pct-rich-per-country'].nlargest(1).index[0]\n",
    "    highest_earning_country_percentage = percentage_rich['pct-rich-per-country'].nlargest(1).iloc[0]\n",
    "\n",
    "\n",
    "    # Identify the most popular occupation for those who earn >50K in India.\n",
    "    top_IN_occupation = df[(df['native-country']=='India')&(df['salary']=='>50K')].groupby(['occupation'])['occupation'].count().nlargest(1).index[0]\n",
    "\n",
    "    # DO NOT MODIFY BELOW THIS LINE\n",
    "\n",
    "    if print_data:\n",
    "        print(\"Number of each race:\\n\", race_count) \n",
    "        print(\"Average age of men:\", average_age_men)\n",
    "        print(f\"Percentage with Bachelors degrees: {percentage_bachelors}%\")\n",
    "        print(f\"Percentage with higher education that earn >50K: {higher_education_rich}%\")\n",
    "        print(f\"Percentage without higher education that earn >50K: {lower_education_rich}%\")\n",
    "        print(f\"Min work time: {min_work_hours} hours/week\")\n",
    "        print(f\"Percentage of rich among those who work fewest hours: {rich_percentage}%\")\n",
    "        print(\"Country with highest percentage of rich:\", highest_earning_country)\n",
    "        print(f\"Highest percentage of rich people in country: {highest_earning_country_percentage}%\")\n",
    "        print(\"Top occupations in India:\", top_IN_occupation)\n",
    "\n",
    "    return {\n",
    "        'race_count': race_count,\n",
    "        'average_age_men': average_age_men,\n",
    "        'percentage_bachelors': percentage_bachelors,\n",
    "        'higher_education_rich': higher_education_rich,\n",
    "        'lower_education_rich': lower_education_rich,\n",
    "        'min_work_hours': min_work_hours,\n",
    "        'rich_percentage': rich_percentage,\n",
    "        'highest_earning_country': highest_earning_country,\n",
    "        'highest_earning_country_percentage':\n",
    "        highest_earning_country_percentage,\n",
    "        'top_IN_occupation': top_IN_occupation\n",
    "    }\n"
   ]
  }
 ],
 "metadata": {
  "kernelspec": {
   "display_name": "Python 3 (ipykernel)",
   "language": "python",
   "name": "python3"
  },
  "language_info": {
   "codemirror_mode": {
    "name": "ipython",
    "version": 3
   },
   "file_extension": ".py",
   "mimetype": "text/x-python",
   "name": "python",
   "nbconvert_exporter": "python",
   "pygments_lexer": "ipython3",
   "version": "3.12.2"
  }
 },
 "nbformat": 4,
 "nbformat_minor": 5
}
